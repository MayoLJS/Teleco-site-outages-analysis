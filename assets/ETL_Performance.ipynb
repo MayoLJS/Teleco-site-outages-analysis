{
 "cells": [
  {
   "cell_type": "markdown",
   "metadata": {},
   "source": [
    "Performance Report ETL"
   ]
  },
  {
   "cell_type": "code",
   "execution_count": null,
   "metadata": {},
   "outputs": [],
   "source": [
    "# Import needed libriaries\n",
    "import pandas as pd"
   ]
  },
  {
   "cell_type": "code",
   "execution_count": 2,
   "metadata": {},
   "outputs": [
    {
     "name": "stderr",
     "output_type": "stream",
     "text": [
      "c:\\Users\\mayow\\anaconda3\\envs\\mayowa-data-analytics\\Lib\\site-packages\\openpyxl\\worksheet\\_reader.py:329: UserWarning: Data Validation extension is not supported and will be removed\n",
      "  warn(msg)\n"
     ]
    }
   ],
   "source": [
    "# Load raw data from Excel file\n",
    "outage_atc = pd.read_excel('C:\\\\Users\\\\mayow\\\\OneDrive\\\\Documents\\\\01 Personal Documents\\\\03 Projects Data Analytics\\\\01 Telecommunications Site Outages Analysis and Reporting\\\\assets v1.2\\\\datasets\\\\Performance Data.xlsx', sheet_name='Outage')\n",
    "performance_atc = pd.read_excel('C:\\\\Users\\\\mayow\\\\OneDrive\\\\Documents\\\\01 Personal Documents\\\\03 Projects Data Analytics\\\\01 Telecommunications Site Outages Analysis and Reporting\\\\assets v1.2\\\\datasets\\\\Performance Data.xlsx', sheet_name='2023 - 2024 PA Trends')"
   ]
  },
  {
   "cell_type": "code",
   "execution_count": null,
   "metadata": {},
   "outputs": [],
   "source": [
    "# Select only needed Columns from Outage report\n",
    "outage_atc = outage_atc[['Issue Number',\n",
    "       'Airtel Site ID', 'Alarm Start Time', 'DURATION', 'MTTR',\n",
    "       'Root Cause', 'Category', 'Sub-Cat 1',\n",
    "       'Sub-Cat 2', 'Sub-Cat 3', 'Underlying Cause', 'AIRTEL CLASS']]"
   ]
  },
  {
   "cell_type": "code",
   "execution_count": null,
   "metadata": {},
   "outputs": [],
   "source": [
    "# Functions to:\n",
    "# - Create a column in outage table and fill it with specific text based on another column\n",
    "# - Check if a column contains date format\n",
    "def classify_rca(row):\n",
    "    if pd.isnull(row['Underlying Cause']):\n",
    "        return pd.Series(['Other Issues', 'Others', 'Others', 'Others'])  # Handle NaN values appropriately\n",
    "    \n",
    "    rca = row['Underlying Cause'].lower()\n",
    "    \n",
    "    if 'access' in rca:\n",
    "        if 'unpaid security salary' in rca:\n",
    "            return pd.Series(['Access Issue', 'Unpaid Security Salary', 'Guard restriction', 'Others'])\n",
    "        elif 'landlord' in rca:\n",
    "            return pd.Series(['Access Issue', 'Landlord Restriction', 'Landlord', 'Others'])\n",
    "        elif 'restriction' in rca:\n",
    "            return pd.Series(['Access Issue', 'Landlord Restriction', 'Landlord restriction', 'Others'])\n",
    "        else:\n",
    "            return pd.Series(['Access Issue', 'Landlord Restriction', 'Landlord Challenge', 'Others'])\n",
    "    elif any(x in rca for x in ['fuel', 'diesel', 'separator']):\n",
    "        if any(x in rca for x in ['low', 'outage', 'no']):\n",
    "            return pd.Series(['Generator', 'Mechanical', 'Fuel', 'Low Diesel'])\n",
    "        elif any(x in rca for x in ['contaminated', 'spill']):\n",
    "            return pd.Series(['Generator', 'Mechanical', 'Fuel', 'Contaminated Fuel'])\n",
    "        elif 'priming pump' in rca:\n",
    "            return pd.Series(['Generator', 'Mechanical', 'Fuel', 'Faulty Priming Pump'])\n",
    "        else:\n",
    "            return pd.Series(['Generator', 'Mechanical', 'Fuel', 'Others'])\n",
    "    elif 'hybrid' in rca:\n",
    "        return pd.Series(['Hybrid Issues', 'Others', 'Others', 'Others'])\n",
    "    elif 'compression' in rca:\n",
    "        return pd.Series(['Generator', 'Mechanical', 'Engine', 'Loss Compression'])\n",
    "    elif 'rim' in rca:\n",
    "        return pd.Series(['Generator', 'Mechanical', 'Engine', 'Hand Primer'])\n",
    "    elif 'attery' in rca:\n",
    "        return pd.Series(['Other Equipment', 'Battery', 'Starter Batteries', 'Starter Batteries'])\n",
    "    elif 'low engine oil' in rca:\n",
    "        return pd.Series(['Generator', 'Mechanical', 'Engine', 'Low Engine Oil'])\n",
    "    elif 'overheating' in rca:\n",
    "        return pd.Series(['Generator', 'Mechanical', 'Engine', 'Overheating'])\n",
    "    elif 'cable' in rca:\n",
    "        return pd.Series(['Other Equipment', 'Electrical', 'Wiring', 'Cable'])\n",
    "    elif 'oil leak' in rca:\n",
    "        return pd.Series(['Generator', 'Mechanical', 'Engine', 'Oil Leak'])\n",
    "    elif 'cylinder head gasket' in rca:\n",
    "        return pd.Series(['Generator', 'Mechanical', 'Engine', 'Cylinder Head Gasket Fault'])\n",
    "    elif 'injector pump' in rca:\n",
    "        return pd.Series(['Generator', 'Mechanical', 'Injector Pump', 'Faulty Injector Pump'])\n",
    "    elif 'coolant' in rca:\n",
    "        return pd.Series(['Generator', 'Mechanical', 'Radiator', 'DG Coolant Low'])\n",
    "    elif 'radiator overheating' in rca:\n",
    "        return pd.Series(['Generator', 'Mechanical', 'Radiator', 'DG Overheating'])\n",
    "    elif 'radiator leakages' in rca:\n",
    "        return pd.Series(['Generator', 'Mechanical', 'Radiator', 'Radiator Leakages'])\n",
    "    elif 'e-pump' in rca:\n",
    "        return pd.Series(['Generator', 'Electrical', 'E-pump', 'Faulty Electric Pump'])\n",
    "    elif 'hard start' in rca:\n",
    "        return pd.Series(['Generator', 'Electrical', 'Battery', 'Hard Start'])\n",
    "    elif 'battery failure' in rca:\n",
    "        return pd.Series(['Generator', 'Electrical', 'Battery', 'Battery Failure'])\n",
    "    elif 'voltage fluctuation' in rca or 'AVR' in rca:\n",
    "        return pd.Series(['Generator', 'Electrical', 'AVR', 'Voltage Fluctuation'])\n",
    "    elif 'hargin' in rca:\n",
    "        return pd.Series(['Generator', 'Electrical', 'Charging Alternator', 'Failure'])\n",
    "    elif 'tripped circuit breaker' in rca or 'breaker failure' in rca or 'breaker' in rca:\n",
    "        return pd.Series(['Generator', 'Electrical', 'Breaker', 'Tripped Circuit Breaker'])\n",
    "    elif 'control fault' in rca:\n",
    "        return pd.Series(['Generator', 'Electrical', 'Control Panel', 'Control Fault'])\n",
    "    elif 'alternator fault' in rca:\n",
    "        return pd.Series(['Generator', 'Electrical', 'Alternator', 'Alternator Fault'])\n",
    "    elif 'wiring fault' in rca:\n",
    "        return pd.Series(['Other Equipment', 'Electrical', 'Wiring', 'Wiring Fault'])\n",
    "    elif 'transformer fault' in rca:\n",
    "        return pd.Series(['Generator', 'Electrical', 'Transformer', 'Transformer Fault'])\n",
    "    elif 'faulty libs' in rca:\n",
    "        return pd.Series(['Other Equipment', 'Battery', 'Faulty LIBs', 'Others'])\n",
    "    elif 'faulty inverter' in rca:\n",
    "        return pd.Series(['Other Equipment', 'Inverter', 'Faulty Inverter', 'Others'])\n",
    "    elif 'faulty rectifier' in rca:\n",
    "        return pd.Series(['Other Equipment', 'Rectifier', 'Faulty Rectifier', 'Others'])\n",
    "    elif 'faulty backup batteries' in rca:\n",
    "        return pd.Series(['Other Equipment', 'Back up Battery', 'Faulty Backup Batteries', 'Others'])\n",
    "    elif 'generator theft' in rca:\n",
    "        return pd.Series(['Theft', 'Generator Theft', 'Generator components theft', 'Others'])\n",
    "    elif 'cable theft' in rca or 'ac/dc cable theft' in rca:\n",
    "        return pd.Series(['Theft', 'Cable Theft', 'DC Cable Theft', 'Others'])\n",
    "    elif 'site vandalism' in rca:\n",
    "        return pd.Series(['Theft', 'Site Vandalism', 'Site Vandalized', 'Others'])\n",
    "    elif any(x in rca for x in ['servicing', 'plan', 'activi']):\n",
    "        if 'maintenance' in rca:\n",
    "            return pd.Series(['Planned Activities', 'Preventative Maintenance', 'Others', 'Others'])\n",
    "        elif any(x in rca for x in ['installation', 'swap']):\n",
    "            return pd.Series(['Planned Activities', 'Generator Installation/Swap', 'Others', 'Others'])\n",
    "        else:\n",
    "            return pd.Series(['Planned Activities', 'Other', 'Others', 'Others'])\n",
    "    elif 'grid' in rca:\n",
    "        return pd.Series(['Grid Issues', 'Others', 'Others', 'Others'])\n",
    "    elif 'rectif' in rca:\n",
    "        return pd.Series(['Other Equipment', 'Rectifier', 'Others', 'Others'])\n",
    "    elif 'theft' in rca or 'vanda' in rca:\n",
    "        if 'cable' in rca:\n",
    "            return pd.Series(['Theft', 'Cable Theft', 'Others', 'Others'])\n",
    "        else:\n",
    "            return pd.Series(['Theft', 'Generator Theft', 'Others', 'Others'])\n",
    "    elif 'ats' in rca:\n",
    "        return pd.Series(['Generator', 'Electrical', 'ATS', 'ATS Fault'])\n",
    "    else:\n",
    "        return pd.Series(['Other Issues', 'Others', 'Others', 'Others'])\n",
    "\n",
    "def is_date(string):\n",
    "    try:\n",
    "        pd.to_datetime(string)\n",
    "        return True\n",
    "    except ValueError:\n",
    "        return False"
   ]
  },
  {
   "cell_type": "code",
   "execution_count": null,
   "metadata": {},
   "outputs": [],
   "source": [
    "\n",
    "# Create Key column in outage table for ensure unique entries\n",
    "outage_atc['key'] = outage_atc['Issue Number'].astype(str) + '_' + outage_atc['Alarm Start Time'].astype(str)\n",
    "outage_atc['incident date'] = outage_atc['Alarm Start Time'].dt.date.astype('datetime64[ns]')\n",
    "\n",
    "# Use the previously created function to check date columns only and add to \"Anchor tenant\" column\n",
    "date_columns_atc = [col for col in performance_atc.columns if is_date(col)]\n",
    "columns_to_keep_atc = ['Anchor Tenant'] + date_columns_atc\n",
    "\n",
    "atc = performance_atc[columns_to_keep_atc]"
   ]
  },
  {
   "cell_type": "code",
   "execution_count": null,
   "metadata": {},
   "outputs": [],
   "source": [
    "# unpivot with melt function\n",
    "melted_atc = pd.melt(atc, id_vars=['Anchor Tenant'], var_name='Date', value_name='Performance')"
   ]
  },
  {
   "cell_type": "code",
   "execution_count": null,
   "metadata": {},
   "outputs": [
    {
     "name": "stdout",
     "output_type": "stream",
     "text": [
      "----ATC PA----\n",
      "       Anchor Tenant       Date  Performance\n",
      "863377        AB1605 2024-11-24        100.0\n",
      "863378        AB1618 2024-11-24        100.0\n",
      "----------------------------------------------\n",
      "----ATC Outage----\n",
      "609   2024-11-24\n",
      "610   2024-11-24\n",
      "Name: Alarm Start Time, dtype: datetime64[ns]\n"
     ]
    }
   ],
   "source": [
    "# Drop entries with empty values\n",
    "melted_atc = melted_atc.dropna(subset=['Performance'])\n",
    "\n",
    "melted_atc['Date'] = pd.to_datetime(melted_atc['Date'])\n",
    "\n",
    "print('----ATC PA----')\n",
    "print(melted_atc.tail(2))\n",
    "print('----------------------------------------------')\n",
    "print('----ATC Outage----')\n",
    "print(outage_atc['Alarm Start Time'].tail(2))"
   ]
  },
  {
   "cell_type": "code",
   "execution_count": null,
   "metadata": {},
   "outputs": [
    {
     "data": {
      "text/plain": [
       "15094   2024-11-24\n",
       "Name: incident date, dtype: datetime64[ns]"
      ]
     },
     "execution_count": 9,
     "metadata": {},
     "output_type": "execute_result"
    }
   ],
   "source": [
    "# load cleaned data and make sure some columns are datetime format\n",
    "outage_database_atc = pd.read_csv('C:\\\\Users\\\\mayow\\\\OneDrive\\\\Documents\\\\01 Personal Documents\\\\03 Projects Data Analytics\\\\01 Telecommunications Site Outages Analysis and Reporting\\\\assets v1.2\\\\datasets\\\\Cleaned Datasets\\\\atc_outages.csv')\n",
    "outage_database_atc['incident date'] = pd.to_datetime(outage_database_atc['incident date'])\n",
    "outage_database_atc['Alarm Start Time'] = pd.to_datetime(outage_database_atc['Alarm Start Time'])\n",
    "\n",
    "outage_database_atc['incident date'].tail(1)\n"
   ]
  },
  {
   "cell_type": "code",
   "execution_count": null,
   "metadata": {},
   "outputs": [
    {
     "name": "stdout",
     "output_type": "stream",
     "text": [
      "<class 'pandas.core.frame.DataFrame'>\n",
      "Index: 0 entries\n",
      "Data columns (total 14 columns):\n",
      " #   Column            Non-Null Count  Dtype         \n",
      "---  ------            --------------  -----         \n",
      " 0   Issue Number      0 non-null      int64         \n",
      " 1   Airtel Site ID    0 non-null      object        \n",
      " 2   Alarm Start Time  0 non-null      datetime64[ns]\n",
      " 3   DURATION          0 non-null      float64       \n",
      " 4   MTTR              0 non-null      float64       \n",
      " 5   Root Cause        0 non-null      object        \n",
      " 6   Category          0 non-null      object        \n",
      " 7   Sub-Cat 1         0 non-null      object        \n",
      " 8   Sub-Cat 2         0 non-null      object        \n",
      " 9   Sub-Cat 3         0 non-null      object        \n",
      " 10  Underlying Cause  0 non-null      object        \n",
      " 11  AIRTEL CLASS      0 non-null      object        \n",
      " 12  key               0 non-null      object        \n",
      " 13  incident date     0 non-null      datetime64[ns]\n",
      "dtypes: datetime64[ns](2), float64(2), int64(1), object(9)\n",
      "memory usage: 0.0+ bytes\n"
     ]
    }
   ],
   "source": [
    "# Use key to avoid appending duplicates when add new entries\n",
    "\n",
    "existing_keys = set(outage_database_atc['key'])\n",
    "new_outages = outage_atc[~outage_atc['key'].isin(existing_keys)]\n",
    "\n",
    "if not new_outages.empty:\n",
    "    new_outages.to_csv('atc_outages.csv', mode='a', header=False, index=False)\n",
    "    \n",
    "new_outages.info()"
   ]
  },
  {
   "cell_type": "code",
   "execution_count": null,
   "metadata": {},
   "outputs": [],
   "source": [
    "# Create new columns with the classify rca function\n",
    "\n",
    "outage_atc = pd.read_csv('C:\\\\Users\\\\mayow\\\\OneDrive\\\\Documents\\\\01 Personal Documents\\\\03 Projects Data Analytics\\\\01 Telecommunications Site Outages Analysis and Reporting\\\\assets v1.2\\\\datasets\\\\Cleaned Datasets\\\\atc_outages.csv')\n",
    "outage_atc[['Cat', 'S-Cat1', 'S-Cat2', 'S-Cat3']] = outage_atc.apply(classify_rca, axis=1)\n",
    "\n",
    "outage_atc['incident date'] = pd.to_datetime(outage_atc['incident date'])\n",
    "outage_atc['Alarm Start Time'] = pd.to_datetime(outage_atc['Alarm Start Time'])"
   ]
  },
  {
   "cell_type": "code",
   "execution_count": null,
   "metadata": {},
   "outputs": [],
   "source": [
    "# Save to CSV\n",
    "\n",
    "outage_atc.to_csv('C:\\\\Users\\\\mayow\\\\OneDrive\\\\Documents\\\\01 Personal Documents\\\\03 Projects Data Analytics\\\\01 Telecommunications Site Outages Analysis and Reporting\\\\assets v1.2\\\\datasets\\\\Cleaned Datasets\\\\atc_outages.csv', index=False)\n",
    "\n",
    "melted_atc.to_csv('C:\\\\Users\\\\mayow\\\\OneDrive\\\\Documents\\\\01 Personal Documents\\\\03 Projects Data Analytics\\\\01 Telecommunications Site Outages Analysis and Reporting\\\\assets v1.2\\\\datasets\\\\Cleaned Datasets\\\\atc_performance.csv', index=False)"
   ]
  },
  {
   "cell_type": "code",
   "execution_count": 14,
   "metadata": {},
   "outputs": [
    {
     "name": "stdout",
     "output_type": "stream",
     "text": [
      "----------------------------------------------------------------\n",
      "<class 'pandas.core.frame.DataFrame'>\n",
      "Index: 827686 entries, 0 to 863378\n",
      "Data columns (total 3 columns):\n",
      " #   Column         Non-Null Count   Dtype         \n",
      "---  ------         --------------   -----         \n",
      " 0   Anchor Tenant  827686 non-null  object        \n",
      " 1   Date           827686 non-null  datetime64[ns]\n",
      " 2   Performance    827686 non-null  float64       \n",
      "dtypes: datetime64[ns](1), float64(1), object(1)\n",
      "memory usage: 25.3+ MB\n",
      "----------------------------------------------------------------\n"
     ]
    }
   ],
   "source": [
    "print('----------------------------------------------------------------')\n",
    "melted_atc.info()\n",
    "print('----------------------------------------------------------------')"
   ]
  }
 ],
 "metadata": {
  "kernelspec": {
   "display_name": "mayowa-data-analytics",
   "language": "python",
   "name": "python3"
  },
  "language_info": {
   "codemirror_mode": {
    "name": "ipython",
    "version": 3
   },
   "file_extension": ".py",
   "mimetype": "text/x-python",
   "name": "python",
   "nbconvert_exporter": "python",
   "pygments_lexer": "ipython3",
   "version": "3.12.3"
  }
 },
 "nbformat": 4,
 "nbformat_minor": 2
}
